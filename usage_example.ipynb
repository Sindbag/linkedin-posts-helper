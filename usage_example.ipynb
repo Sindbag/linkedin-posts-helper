{
 "cells": [
  {
   "cell_type": "code",
   "execution_count": 3,
   "metadata": {},
   "outputs": [],
   "source": [
    "import requests"
   ]
  },
  {
   "cell_type": "code",
   "execution_count": 4,
   "metadata": {},
   "outputs": [],
   "source": [
    "profession = \"Senior IT Recruiter / Stream Lead – Yandex Ridetech (Taxi, Drive, Scooters)\"\n",
    "experience = \"\"\"Senior IT Recruiter\n",
    "Yandex\n",
    "Jun 2021 - Present · 2 yrs\n",
    "Moscow\n",
    "IT Recruiter at Yandex Ridetech:\n",
    " - full cycle recruitment for IT positions from junior to lead level in different locations: Russia, CIS, Serbia (Stack: Backend (C++, Python, Java), Frontend, Mobile (Flutter) developers, DWH/ETL engineers and system analysts, DevOps Engineers, Technical Product Managers, etc.)\n",
    "- Lead in Frontend Stream (process organisation, team meetings conduction, 2 colleges work coordination, nterviewers training, reporting)\n",
    "\n",
    "Projects:\n",
    "- Job descriptions and advertisements creation;\n",
    "- Landing page and digest of vacancies creation;\n",
    "- Participation in 'How to hire in CIS, Serbia' guide creation;\n",
    "- HR analytics and C&B projects;\n",
    "- Collaboration with hiring managers, interviewers and other stakeholders to improve the recruitment process; \n",
    "- Managing a work of 3 sourcers and buddy for new colleagues;\n",
    "- Participation in employees adaptation and organisation of HR brand activities (fast-track, one-day offer, \n",
    " cold-reference, conferences).IT Recruiter at Yandex Ridetech: - full cycle recruitment for IT positions from junior to lead level in different locations: Russia, CIS, Serbia (Stack: Backend (C++, Python, Java), Frontend, Mobile (Flutter) developers, DWH/ETL engineers and system analysts, DevOps Engineers, Technical Product Managers, etc.) - Lead in Frontend Stream (process organisation, team meetings conduction, 2 colleges work coordination, interviewers training, reporting) Projects: - Job descriptions and advertisements creation; - Landing page and digest of vacancies creation; - Participation in 'How to hire in CIS, Serbia' guide creation; - HR analytics and C&B projects; - Collaboration with hiring managers, interviewers and other stakeholders to improve the recruitment process; - Managing a work of 3 sourcers and buddy for new colleagues; - Participation in employees adaptation and organisation of HR brand activities (fast-track, one-day offer, cold-reference, conferences).\n",
    "\n",
    "IT Recruiter\n",
    "Sberbank\n",
    "Oct 2018 - May 2021 · 2 yrs 8 mos\n",
    "Moscow\n",
    "IT Recruiter at SberDevices: \n",
    "- full cycle recruitment for IT positions from junior to lead level (stack: Java, Python, Scala developers, System analysts, DevOps Engineers, SRE, QA Engineers, Tech Product Managers, UI UX Designers etc.), Gamedev positions (3-months project, stack: Sound Designer, Gamedev Product Owner, Art Lead, Unity developers, Game Designers); \n",
    "- Managed interview process on streams of System Analyst, Devops Engineer, Product Owner;\n",
    "- Mentoring new colleagues and managing 2 sourcers' work;\n",
    "- HR analytics and reporting;\n",
    "- Participation in projects (SberStart, Job Offer Tutorial) and HR brand activities (conferences).IT Recruiter at SberDevices: - full cycle recruitment for IT positions from junior to lead level (stack: Java, Python, Scala developers, System analysts, DevOps Engineers, SRE, QA Engineers, Tech Product Managers, UI UX Designers etc.), Gamedev positions (3-months project, stack: Sound Designer, Gamedev Product Owner, Art Lead, Unity developers, Game Designers); - Managed interview process on streams of System Analyst, Devops Engineer, Product Owner; - Mentoring new colleagues and managing 2 sourcers' work; - HR analytics and reporting; - Participation in projects (SberStart, Job Offer Tutorial) and HR brand activities (conferences).\n",
    "\n",
    "Reseacher\n",
    "Kelly Services\n",
    "Aug 2017 - Aug 2018 · 1 yr 1 mo\n",
    "Moscow\n",
    "Mass recruitment (FMCG, fashion, admin): interaction with clients, sourcing, personal interviews and assessments, reporting.\"\"\""
   ]
  },
  {
   "cell_type": "code",
   "execution_count": 5,
   "metadata": {},
   "outputs": [],
   "source": [
    "response = requests.post(\n",
    "    \"http://localhost:5000/gen_plan\",\n",
    "    json={\"profession\": profession, \"experience\": experience}\n",
    ")"
   ]
  },
  {
   "cell_type": "code",
   "execution_count": 6,
   "metadata": {},
   "outputs": [
    {
     "name": "stdout",
     "output_type": "stream",
     "text": [
      "Week: 1; suggested day to post: Monday; suggested length: 550; format: how-to post; suggested heading: How to Become a Successful IT Recruiter \n",
      "\n",
      "Week: 2; suggested day to post: Tuesday; suggested length: 500; format: success story; suggested heading:\n",
      "Success Story: How I Recruited the Right Talent for Yandex Ridetech \n",
      "\n",
      "Week: 3; suggested day to post: Wednesday; suggested length: 550; format: Q&A; suggested heading:\n",
      "Q&A: What Does an IT Recruiter Do? \n",
      "\n",
      "Week: 4; suggested day to post: Thursday; suggested length: 600; format: listicle; suggested heading:\n",
      "7 Tips to Help You Find the Best IT Talent \n",
      "\n",
      "Week: 5; suggested day to post: Friday; suggested length: 450; format: opinion piece; suggested heading:\n",
      "Why IT Recruitment is the Future of Talent Acquisition\n"
     ]
    }
   ],
   "source": [
    "print(response.json()['response'])"
   ]
  },
  {
   "cell_type": "code",
   "execution_count": 7,
   "metadata": {},
   "outputs": [],
   "source": [
    "resp = response.json()['response']\n",
    "kw = {}\n",
    "for line in resp.split('\\n\\n'):\n",
    "    if not line:\n",
    "        continue\n",
    "    data = {}\n",
    "    items = line.split(';')\n",
    "    for item in items:\n",
    "        k, *v = item.split(':')\n",
    "        k = k.strip().lower()\n",
    "        if 'suggested' in k:\n",
    "            k = ' '.join(k.split(' ')[1:])\n",
    "        data[k] = ': '.join(_v.strip() for _v in v)\n",
    "    kw[data['week']] = data\n"
   ]
  },
  {
   "cell_type": "code",
   "execution_count": 8,
   "metadata": {},
   "outputs": [
    {
     "data": {
      "text/plain": [
       "{'1': {'week': '1',\n",
       "  'day to post': 'Monday',\n",
       "  'length': '550',\n",
       "  'format': 'how-to post',\n",
       "  'heading': 'How to Become a Successful IT Recruiter'},\n",
       " '2': {'week': '2',\n",
       "  'day to post': 'Tuesday',\n",
       "  'length': '500',\n",
       "  'format': 'success story',\n",
       "  'heading': 'Success Story: How I Recruited the Right Talent for Yandex Ridetech'},\n",
       " '3': {'week': '3',\n",
       "  'day to post': 'Wednesday',\n",
       "  'length': '550',\n",
       "  'format': 'Q&A',\n",
       "  'heading': 'Q&A: What Does an IT Recruiter Do?'},\n",
       " '4': {'week': '4',\n",
       "  'day to post': 'Thursday',\n",
       "  'length': '600',\n",
       "  'format': 'listicle',\n",
       "  'heading': '7 Tips to Help You Find the Best IT Talent'},\n",
       " '5': {'week': '5',\n",
       "  'day to post': 'Friday',\n",
       "  'length': '450',\n",
       "  'format': 'opinion piece',\n",
       "  'heading': 'Why IT Recruitment is the Future of Talent Acquisition'}}"
      ]
     },
     "execution_count": 8,
     "metadata": {},
     "output_type": "execute_result"
    }
   ],
   "source": [
    "kw"
   ]
  },
  {
   "cell_type": "code",
   "execution_count": 9,
   "metadata": {},
   "outputs": [
    {
     "name": "stdout",
     "output_type": "stream",
     "text": [
      "{'response': \"\\nHeading: How to Become a Successful IT Recruiter\\n \\nBody: Becoming a successful IT recruiter requires a combination of technical knowledge, soft skills, and a passion for connecting people with the right job opportunities. Here are some tips to help you become an effective IT recruiter: \\n\\n1. Get to know the IT industry: It's important to have a good understanding of the IT industry, its trends, and the different roles and technologies within it. This will help you identify the right candidates and make sure they match the requirements of the job. \\n\\n2. Build relationships: Building relationships with IT professionals will help you understand their skills, experiences, and career goals. This will help you find the right candidate for the job and make sure they are a good fit for the company.\\n\\n3. Develop sourcing strategies: Developing effective sourcing strategies is essential to finding the right candidates. This includes using multiple channels such as job boards, social media, and networking events.\\n\\n4. Master communication skills: Being able to communicate effectively with IT professionals is essential for successful recruitment. This includes being able to ask the right questions to understand their skills and experiences.\\n\\n5. Utilize analytics and reporting: Utilizing analytics and reporting can help you understand the effectiveness of your recruitment efforts and make adjustments if needed.\\n\\nBy following these tips, you can become a successful IT recruiter and help connect the right people with the right job opportunities.\"}\n",
      "{'response': '\\nHeading:\\nSuccess Story: How I Recruited the Right Talent for Yandex Ridetech\\n\\nBody:\\nWhen I joined Yandex Ridetech as an IT Recruiter, I was tasked with finding the right talent to help the company grow. I knew that this was going to be no easy task, as I was looking for senior-level IT professionals in different locations, with different skill sets.\\n\\nI started by creating job descriptions and advertisements and then launched a landing page and digest of vacancies to attract the right candidates. I also collaborated with hiring managers and interviewers to ensure that the recruitment process was efficient.\\n\\nI managed a team of 3 sourcers and a buddy for new colleagues, in addition to training interviewers and conducting team meetings. I also participated in HR analytics and C&B projects and organized HR brand activities, such as fast-track, one-day offer, cold-reference, and conferences.\\n\\nUltimately, I was successful in recruiting the right talent for Yandex Ridetech and I am proud of the work I have done. Not only did I find the right candidates for the job, but I also helped to streamline the recruitment process, making it more efficient and effective.'}\n",
      "{'response': '\\nHeading:\\nQ&A: What Does an IT Recruiter Do?\\n\\nBody: \\nAre you curious about what an IT Recruiter does? Here’s a quick overview of the responsibilities and duties of an IT Recruiter. \\n\\nQ: What does an IT Recruiter do? \\nA: An IT Recruiter is responsible for finding, interviewing, and hiring IT professionals. They work with employers to identify the right candidates for their IT positions, from entry-level to senior-level roles. They often manage the full recruitment process, from sourcing to interviewing and onboarding. They also provide guidance and training to hiring managers and interviewers, and use analytics to track recruitment progress. \\n\\nQ: What skills do IT Recruiters need? \\nA: IT Recruiters need excellent communication, interpersonal, and organizational skills. They must be able to effectively manage the recruitment process and connect with potential candidates. They should also be familiar with the IT industry and have an understanding of the different roles and technologies involved. \\n\\nQ: What do IT Recruiters look for in a candidate? \\nA: IT Recruiters look for candidates with the right technical skills and experience for the role, as well as the right attitude and personality. They should also have the ability to learn quickly and adapt to a new environment. \\n\\nQ: What is the job outlook for IT Recruiters? \\nA: The job outlook for IT Recruiters is positive, as more companies are looking to fill IT positions. With the right skills and experience, IT Recruiters can expect to find plenty of job opportunities.'}\n",
      "{'response': \"\\n7 Tips to Help You Find the Best IT Talent \\n\\nFinding the right IT talent can be a challenge, but it doesn't have to be. Here are 7 tips that can help you find the best IT talent: \\n1. Define your needs: Before you start your search, make sure you know exactly what you need. Are you looking for a specific type of IT talent? Are there any qualifications or certifications required? Defining your needs upfront will help you find the right fit. \\n2. Leverage your network: Your network can be an invaluable resource when it comes to finding the right IT talent. Reach out to your contacts and let them know what you’re looking for. You never know who might have the perfect candidate for the job.\\n3. Utilize job boards: Job boards are a great way to reach a wide variety of potential candidates. Make sure your job posting is optimized for search engines so that the right people can find your listing.\\n4. Use referrals: Ask current employees if they know anyone who might be a good fit for the position. You can also offer incentives to employees who refer candidates who get the job.\\n5. Take advantage of social media: Social media is a great way to reach potential candidates. Post job listings on your company’s social media accounts and consider using targeted ads to reach the right people.\\n6. Consider using a recruitment agency: Recruitment agencies can help you find the right IT talent quickly and efficiently. They have access to a wide range of candidates and can often provide insights and advice.\\n7. Follow up: Once you’ve identified potential candidates, make sure to follow up with them in a timely manner. Responding quickly and professionally will help you stand out from the competition. \\n\\nFollowing these tips can help you find the best IT talent for your team. With the right strategy, you’ll be able to find the perfect candidate in no time.\"}\n",
      "{'response': '\\nHeading: \"The Future of Talent Acquisition is in IT Recruitment\" \\n\\nBody: As the world continues to digitalize, industries across the globe are looking for ways to stay competitive and remain at the forefront of their respective markets. The demand for skilled IT professionals is growing rapidly, and it is becoming increasingly important for companies to have a dedicated IT recruitment team in place to identify, attract and retain the best talent. IT recruitment requires a specialized set of skills and knowledge, as well as an understanding of the ever-evolving technology landscape. \\n\\nIT recruitment focuses on finding the right candidates who can bring the right skills, experience, and knowledge to the table. As technology continues to evolve, it is essential for companies to identify and hire the right IT professionals who can help them stay ahead of the competition. \\n\\nIn addition to finding the right IT professionals, IT recruiters also need to be able to identify potential cultural fits within the organization. As the IT landscape continues to evolve, companies need to ensure their IT teams are able to work together effectively and efficiently. By understanding the needs of the organization and the skills of the candidate, IT recruiters can ensure the right fit for the organization. \\n\\nFinally, IT recruitment teams must remain up to date on the latest trends in the industry. As technology continues to develop and evolve, it is important for recruiters to stay informed on the latest advancements and changes in the industry. By understanding the latest trends, recruiters can ensure they are able to identify and attract the most qualified candidates for the position. \\n\\nAs technology continues to evolve, the demand for skilled IT professionals is only going to continue to rise. Companies need to ensure they have a dedicated IT recruitment team in place to identify and attract the best talent. IT recruitment is the future of talent acquisition and it is essential for companies to remain competitive.'}\n"
     ]
    }
   ],
   "source": [
    "resps = []\n",
    "for k, v in kw.items():\n",
    "    resp = requests.post(\n",
    "        \"http://localhost:5000/gen_post\",\n",
    "        json={\n",
    "            \"profession\": profession,\n",
    "            \"experience\": experience,\n",
    "            \"topic\": v['heading'],\n",
    "            \"length\": v['length'],\n",
    "            \"post_format\": v['format'],\n",
    "        },\n",
    "    )\n",
    "    resps.append(resp)\n",
    "    print(resp.json())\n"
   ]
  },
  {
   "cell_type": "code",
   "execution_count": 52,
   "metadata": {},
   "outputs": [
    {
     "name": "stdout",
     "output_type": "stream",
     "text": [
      "Post 0:\n",
      "How to Become a Successful IT Recruiter\n",
      "\n",
      "Becoming a successful IT recruiter requires a combination of technical knowledge, soft skills, and a passion for connecting people with the right job opportunities. Here are some tips to help you become an effective IT recruiter:\n",
      "1. Get to know the IT industry: It's important to have a good understanding of the IT industry, its trends, and the different roles and technologies within it. This will help you identify the right candidates and make sure they match the requirements of the job. \n",
      "\n",
      "2. Build relationships: Building relationships with IT professionals will help you understand their skills, experiences, and career goals. This will help you find the right candidate for the job and make sure they are a good fit for the company.\n",
      "\n",
      "3. Develop sourcing strategies: Developing effective sourcing strategies is essential to finding the right candidates. This includes using multiple channels such as job boards, social media, and networking events.\n",
      "\n",
      "4. Master communication skills: Being able to communicate effectively with IT professionals is essential for successful recruitment. This includes being able to ask the right questions to understand their skills and experiences.\n",
      "\n",
      "5. Utilize analytics and reporting: Utilizing analytics and reporting can help you understand the effectiveness of your recruitment efforts and make adjustments if needed.\n",
      "\n",
      "By following these tips, you can become a successful IT recruiter and help connect the right people with the right job opportunities.\n",
      "\n",
      "\n",
      "Post 1:\n",
      "Success Story: How I Recruited the Right Talent for Yandex Ridetech\n",
      "\n",
      "When I joined Yandex Ridetech as an IT Recruiter, I was tasked with finding the right talent to help the company grow. I knew that this was going to be no easy task, as I was looking for senior-level IT professionals in different locations, with different skill sets.\n",
      "\n",
      "I started by creating job descriptions and advertisements and then launched a landing page and digest of vacancies to attract the right candidates. I also collaborated with hiring managers and interviewers to ensure that the recruitment process was efficient.\n",
      "\n",
      "I managed a team of 3 sourcers and a buddy for new colleagues, in addition to training interviewers and conducting team meetings. I also participated in HR analytics and C&B projects and organized HR brand activities, such as fast-track, one-day offer, cold-reference, and conferences.\n",
      "\n",
      "Ultimately, I was successful in recruiting the right talent for Yandex Ridetech and I am proud of the work I have done. Not only did I find the right candidates for the job, but I also helped to streamline the recruitment process, making it more efficient and effective.\n",
      "\n",
      "\n",
      "Post 2:\n",
      "Q&A: What Does an IT Recruiter Do?\n",
      "\n",
      "Are you curious about what an IT Recruiter does? Here’s a quick overview of the responsibilities and duties of an IT Recruiter. \n",
      "\n",
      "Q: What does an IT Recruiter do? \n",
      "\n",
      "A: An IT Recruiter is responsible for finding, interviewing, and hiring IT professionals. They work with employers to identify the right candidates for their IT positions, from entry-level to senior-level roles. They often manage the full recruitment process, from sourcing to interviewing and onboarding. They also provide guidance and training to hiring managers and interviewers, and use analytics to track recruitment progress. \n",
      "\n",
      "Q: What skills do IT Recruiters need? \n",
      "\n",
      "A: IT Recruiters need excellent communication, interpersonal, and organizational skills. They must be able to effectively manage the recruitment process and connect with potential candidates. They should also be familiar with the IT industry and have an understanding of the different roles and technologies involved. \n",
      "\n",
      "Q: What do IT Recruiters look for in a candidate? \n",
      "\n",
      "A: IT Recruiters look for candidates with the right technical skills and experience for the role, as well as the right attitude and personality. They should also have the ability to learn quickly and adapt to a new environment. \n",
      "\n",
      "Q: What is the job outlook for IT Recruiters? \n",
      "\n",
      "A: The job outlook for IT Recruiters is positive, as more companies are looking to fill IT positions. With the right skills and experience, IT Recruiters can expect to find plenty of job opportunities.\n",
      "\n",
      "\n",
      "Post 3:\n",
      "7 Tips to Help You Find the Best IT Talent\n",
      "\n",
      "Finding the right IT talent can be a challenge, but it doesn't have to be. Here are 7 tips that can help you find the best IT talent: \n",
      "\n",
      "1. Define your needs: Before you start your search, make sure you know exactly what you need. Are you looking for a specific type of IT talent? Are there any qualifications or certifications required? Defining your needs upfront will help you find the right fit. \n",
      "\n",
      "2. Leverage your network: Your network can be an invaluable resource when it comes to finding the right IT talent. Reach out to your contacts and let them know what you’re looking for. You never know who might have the perfect candidate for the job.\n",
      "\n",
      "3. Utilize job boards: Job boards are a great way to reach a wide variety of potential candidates. Make sure your job posting is optimized for search engines so that the right people can find your listing.\n",
      "\n",
      "4. Use referrals: Ask current employees if they know anyone who might be a good fit for the position. You can also offer incentives to employees who refer candidates who get the job.\n",
      "\n",
      "5. Take advantage of social media: Social media is a great way to reach potential candidates. Post job listings on your company’s social media accounts and consider using targeted ads to reach the right people.\n",
      "\n",
      "6. Consider using a recruitment agency: Recruitment agencies can help you find the right IT talent quickly and efficiently. They have access to a wide range of candidates and can often provide insights and advice.\n",
      "\n",
      "7. Follow up: Once you’ve identified potential candidates, make sure to follow up with them in a timely manner. Responding quickly and professionally will help you stand out from the competition. \n",
      "\n",
      "Following these tips can help you find the best IT talent for your team. With the right strategy, you’ll be able to find the perfect candidate in no time.\n",
      "\n",
      "\n",
      "Post 4:\n",
      "The Future of Talent Acquisition is in IT Recruitment\n",
      "\n",
      "As the world continues to digitalize, industries across the globe are looking for ways to stay competitive and remain at the forefront of their respective markets. The demand for skilled IT professionals is growing rapidly, and it is becoming increasingly important for companies to have a dedicated IT recruitment team in place to identify, attract and retain the best talent. IT recruitment requires a specialized set of skills and knowledge, as well as an understanding of the ever-evolving technology landscape.\n",
      "IT recruitment focuses on finding the right candidates who can bring the right skills, experience, and knowledge to the table. As technology continues to evolve, it is essential for companies to identify and hire the right IT professionals who can help them stay ahead of the competition. \n",
      "\n",
      "In addition to finding the right IT professionals, IT recruiters also need to be able to identify potential cultural fits within the organization. As the IT landscape continues to evolve, companies need to ensure their IT teams are able to work together effectively and efficiently. By understanding the needs of the organization and the skills of the candidate, IT recruiters can ensure the right fit for the organization. \n",
      "\n",
      "Finally, IT recruitment teams must remain up to date on the latest trends in the industry. As technology continues to develop and evolve, it is important for recruiters to stay informed on the latest advancements and changes in the industry. By understanding the latest trends, recruiters can ensure they are able to identify and attract the most qualified candidates for the position. \n",
      "\n",
      "As technology continues to evolve, the demand for skilled IT professionals is only going to continue to rise. Companies need to ensure they have a dedicated IT recruitment team in place to identify and attract the best talent. IT recruitment is the future of talent acquisition and it is essential for companies to remain competitive.\n"
     ]
    }
   ],
   "source": [
    "posts = []\n",
    "for i, r in enumerate(resps):\n",
    "    next_is_header = False\n",
    "    header, body = \"\", \"\"\n",
    "    for j, line in enumerate(r.json()['response'].strip().split('\\n')):\n",
    "        if j == 0 and 'Heading' not in line:\n",
    "            next_is_header = True\n",
    "        if next_is_header:\n",
    "            header = line.strip()\n",
    "            next_is_header = False\n",
    "            continue\n",
    "        if not line.strip():\n",
    "            continue\n",
    "\n",
    "        if 'Heading:' in line:\n",
    "            header = line.split('Heading:')[-1].strip()\n",
    "            if not header:            \n",
    "                next_is_header = True\n",
    "        elif 'Body:' in line:\n",
    "            body = line.split('Body:')[-1].strip() + '\\n'\n",
    "        else:\n",
    "            body += line + '\\n\\n'\n",
    "\n",
    "    header = header.strip(\" \\n\").strip('\"')\n",
    "    posts.append(f'Post {i}:\\n{header}\\n\\n{body.strip()}')\n",
    "print(*posts, sep='\\n\\n\\n')\n"
   ]
  },
  {
   "cell_type": "code",
   "execution_count": null,
   "metadata": {},
   "outputs": [],
   "source": [
    "# TODO: generate post illustration?"
   ]
  }
 ],
 "metadata": {
  "kernelspec": {
   "display_name": "venv",
   "language": "python",
   "name": "python3"
  },
  "language_info": {
   "codemirror_mode": {
    "name": "ipython",
    "version": 3
   },
   "file_extension": ".py",
   "mimetype": "text/x-python",
   "name": "python",
   "nbconvert_exporter": "python",
   "pygments_lexer": "ipython3",
   "version": "3.10.9"
  },
  "orig_nbformat": 4,
  "vscode": {
   "interpreter": {
    "hash": "145efdc49ba5557a3a46630be71357031d37752bf32ce988586eb42e7892e910"
   }
  }
 },
 "nbformat": 4,
 "nbformat_minor": 2
}
